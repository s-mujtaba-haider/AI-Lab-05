{
  "nbformat": 4,
  "nbformat_minor": 0,
  "metadata": {
    "colab": {
      "provenance": []
    },
    "kernelspec": {
      "name": "python3",
      "display_name": "Python 3"
    },
    "language_info": {
      "name": "python"
    }
  },
  "cells": [
    {
      "cell_type": "code",
      "source": [
        "# Libraries\n",
        "from collections import deque\n",
        "import heapq\n",
        "import matplotlib.pyplot as plt"
      ],
      "metadata": {
        "id": "KHAdzD2wF0Dn"
      },
      "execution_count": null,
      "outputs": []
    },
    {
      "cell_type": "code",
      "source": [
        "# Q - 1\n",
        "\n",
        "class CubeSolver:\n",
        "    def __init__(self):\n",
        "        self.directions = [(0, 1), (0, -1), (1, 0), (-1, 0)]\n",
        "\n",
        "    def read_cube_from_file(self, filename):\n",
        "        cube = []\n",
        "        with open(filename, 'r') as file:\n",
        "            for line in file:\n",
        "                row = line.strip().split()\n",
        "                cube.append(row)\n",
        "        return cube\n",
        "\n",
        "    def is_valid_move(self, cube, row, col):\n",
        "        n = len(cube)\n",
        "        m = len(cube[0])\n",
        "        return 0 <= row < n and 0 <= col < m and cube[row][col] != '1'\n",
        "\n",
        "    def dfs(self, cube, start, end, visited, path):\n",
        "        if start == end:\n",
        "            return path + [start]\n",
        "\n",
        "        visited.add(start)\n",
        "        for direction in self.directions:\n",
        "            next_row = start[0] + direction[0]\n",
        "            next_col = start[1] + direction[1]\n",
        "            if self.is_valid_move(cube, next_row, next_col) and (next_row, next_col) not in visited:\n",
        "                result = self.dfs(cube, (next_row, next_col), end, visited, path + [start])\n",
        "                if result:\n",
        "                    return result\n",
        "        return None\n",
        "\n",
        "    def bfs(self, cube, start, end):\n",
        "        queue = [(start, [start])]\n",
        "        visited = set()\n",
        "\n",
        "        while queue:\n",
        "            current, path = queue.pop(0)\n",
        "            if current == end:\n",
        "                return path\n",
        "\n",
        "            visited.add(current)\n",
        "            for direction in self.directions:\n",
        "                next_row = current[0] + direction[0]\n",
        "                next_col = current[1] + direction[1]\n",
        "                if self.is_valid_move(cube, next_row, next_col) and (next_row, next_col) not in visited:\n",
        "                    queue.append(((next_row, next_col), path + [(next_row, next_col)]))\n",
        "                    visited.add((next_row, next_col))\n",
        "        return None\n",
        "\n",
        "    def find_path_dfs(self, cube):\n",
        "        start = None\n",
        "        end = None\n",
        "        for i in range(len(cube)):\n",
        "            for j in range(len(cube[0])):\n",
        "                if cube[i][j] == 'S':\n",
        "                    start = (i, j)\n",
        "                elif cube[i][j] == 'G':\n",
        "                    end = (i, j)\n",
        "        if not start or not end:\n",
        "            return -1\n",
        "        return self.dfs(cube, start, end, set(), [])\n",
        "\n",
        "    def find_path_bfs(self, cube):\n",
        "        start = None\n",
        "        end = None\n",
        "        for i in range(len(cube)):\n",
        "            for j in range(len(cube[0])):\n",
        "                if cube[i][j] == 'S':\n",
        "                    start = (i, j)\n",
        "                elif cube[i][j] == 'G':\n",
        "                    end = (i, j)\n",
        "        if not start or not end:\n",
        "            return -1\n",
        "        return self.bfs(cube, start, end)\n",
        "\n",
        "# Example usage\n",
        "solver = CubeSolver()\n",
        "cube = solver.read_cube_from_file(\"cube.txt\")\n",
        "dfs_path = solver.find_path_dfs(cube)\n",
        "bfs_path = solver.find_path_bfs(cube)\n",
        "print(\"DFS Path:\", dfs_path)\n",
        "print(\"BFS Path:\", bfs_path)"
      ],
      "metadata": {
        "colab": {
          "base_uri": "https://localhost:8080/"
        },
        "id": "xH4TEAthF9F8",
        "outputId": "ae383b43-37ca-4524-e073-9fa5508baf0e"
      },
      "execution_count": null,
      "outputs": [
        {
          "output_type": "stream",
          "name": "stdout",
          "text": [
            "DFS Path: [(0, 2), (0, 3), (1, 3), (1, 4), (2, 4), (2, 5), (3, 5), (4, 5), (4, 4), (5, 4), (6, 4), (6, 3), (6, 2), (6, 1), (6, 0)]\n",
            "BFS Path: [(0, 2), (0, 3), (1, 3), (1, 4), (2, 4), (2, 5), (3, 5), (4, 5), (4, 4), (5, 4), (6, 4), (6, 3), (6, 2), (6, 1), (6, 0)]\n"
          ]
        }
      ]
    },
    {
      "cell_type": "code",
      "source": [
        "def plot_cube(cube, path):\n",
        "    for i in range(len(cube)):\n",
        "        for j in range(len(cube[0])):\n",
        "            if cube[i][j] == '1':\n",
        "                plt.plot(j, len(cube) - i - 1, 'ks')\n",
        "            elif cube[i][j] == 'S':\n",
        "                plt.plot(j, len(cube) - i - 1, 'go', markersize=10)\n",
        "            elif cube[i][j] == 'G':\n",
        "                plt.plot(j, len(cube) - i - 1, 'ro', markersize=10)\n",
        "\n",
        "    for node in path:\n",
        "        plt.plot(node[1], len(cube) - node[0] - 1, 'b*-', markersize=10)\n",
        "\n",
        "    plt.xlim(-1, len(cube[0]))\n",
        "    plt.ylim(-1, len(cube))\n",
        "    plt.gca().invert_yaxis()\n",
        "    plt.grid(True)\n",
        "    plt.show()\n",
        "\n",
        "print()\n",
        "print(\"DFS\")\n",
        "plot_cube(cube, dfs_path)\n",
        "print()\n",
        "print()\n",
        "print(\"BFS\")\n",
        "plot_cube(cube, bfs_path)\n",
        "\n",
        "# The graph shown below is starting from green point and ending at red point"
      ],
      "metadata": {
        "colab": {
          "base_uri": "https://localhost:8080/",
          "height": 940
        },
        "id": "Jlau6j-RQjxW",
        "outputId": "b5db1ca7-491d-4de8-ec09-58938269c0c2"
      },
      "execution_count": null,
      "outputs": [
        {
          "output_type": "stream",
          "name": "stdout",
          "text": [
            "\n",
            "DFS\n"
          ]
        },
        {
          "output_type": "display_data",
          "data": {
            "text/plain": [
              "<Figure size 640x480 with 1 Axes>"
            ],
            "image/png": "[encoded data removed]"
          },
          "metadata": {}
        },
        {
          "output_type": "stream",
          "name": "stdout",
          "text": [
            "\n",
            "\n",
            "BFS\n"
          ]
        },
        {
          "output_type": "display_data",
          "data": {
            "text/plain": [
              "<Figure size 640x480 with 1 Axes>"
            ],
            "image/png": "[encoded data removed]"
          },
          "metadata": {}
        }
      ]
    },
    {
      "cell_type": "code",
      "execution_count": null,
      "metadata": {
        "colab": {
          "base_uri": "https://localhost:8080/"
        },
        "id": "7hHeCXPT-nGk",
        "outputId": "bb58347d-8cb6-45cc-819c-274e7d452160"
      },
      "outputs": [
        {
          "output_type": "stream",
          "name": "stdout",
          "text": [
            "Path: [(0, 2), (1, 2), (2, 2), (3, 2), (4, 2), (4, 3), (4, 4), (5, 4), (6, 4), (6, 3), (6, 2), (6, 1), (6, 0)]\n"
          ]
        }
      ],
      "source": [
        "class CubeSolverAStar:\n",
        "    def __init__(self):\n",
        "        self.directions = [(0, 1), (0, -1), (1, 0), (-1, 0)]\n",
        "\n",
        "    def read_cube_from_file(self, filename):\n",
        "        cube = []\n",
        "        with open(filename, 'r') as file:\n",
        "            for line in file:\n",
        "                row = line.strip().split()\n",
        "                cube.append(row)\n",
        "        return cube\n",
        "\n",
        "    def is_valid_move(self, cube, row, col):\n",
        "        n = len(cube)\n",
        "        m = len(cube[0])\n",
        "        return 0 <= row < n and 0 <= col < m and cube[row][col] != '1'\n",
        "\n",
        "    def heuristic(self, current, goal):\n",
        "        # Manhattan distance heuristic\n",
        "        return abs(current[0] - goal[0]) + abs(current[1] - goal[1])\n",
        "\n",
        "    def find_path_astar(self, cube):\n",
        "        start = None\n",
        "        end = None\n",
        "        for i in range(len(cube)):\n",
        "            for j in range(len(cube[0])):\n",
        "                if cube[i][j] == 'S':\n",
        "                    start = (i, j)\n",
        "                elif cube[i][j] == 'G':\n",
        "                    end = (i, j)\n",
        "        if not start or not end:\n",
        "            return -1\n",
        "\n",
        "        pq = [(0, start)]\n",
        "        visited = set()\n",
        "        parent = {}\n",
        "        g_score = {start: 0}\n",
        "\n",
        "        while pq:\n",
        "            current_cost, current = heapq.heappop(pq)\n",
        "            if current == end:\n",
        "                path = []\n",
        "                while current in parent:\n",
        "                    path.append(current)\n",
        "                    current = parent[current]\n",
        "                path.append(start)\n",
        "                return path[::-1]\n",
        "\n",
        "            visited.add(current)\n",
        "            for direction in self.directions:\n",
        "                next_row = current[0] + direction[0]\n",
        "                next_col = current[1] + direction[1]\n",
        "                if self.is_valid_move(cube, next_row, next_col) and (next_row, next_col) not in visited:\n",
        "                    if cube[next_row][next_col] == '+':\n",
        "                        new_cost = g_score[current] + 1\n",
        "                    else:\n",
        "                        new_cost = g_score[current]\n",
        "                    if (next_row, next_col) not in g_score or new_cost < g_score[(next_row, next_col)]:\n",
        "                        g_score[(next_row, next_col)] = new_cost\n",
        "                        f_score = new_cost + self.heuristic((next_row, next_col), end)\n",
        "                        heapq.heappush(pq, (f_score, (next_row, next_col)))\n",
        "                        parent[(next_row, next_col)] = current\n",
        "        return -1\n",
        "\n",
        "# Example usage\n",
        "solver = CubeSolverAStar()\n",
        "cube = solver.read_cube_from_file(\"cubee.txt\")\n",
        "path = solver.find_path_astar(cube)\n",
        "print(\"Path:\", path)"
      ]
    },
    {
      "cell_type": "code",
      "source": [
        "plot_cube(cube, path)\n",
        "\n",
        "# The graph shown below is starting from green point and ending at red point"
      ],
      "metadata": {
        "colab": {
          "base_uri": "https://localhost:8080/",
          "height": 435
        },
        "id": "coz96frXy5W8",
        "outputId": "4606168b-32b0-41d5-a323-275c7b47ae81"
      },
      "execution_count": null,
      "outputs": [
        {
          "output_type": "display_data",
          "data": {
            "text/plain": [
              "<Figure size 640x480 with 1 Axes>"
            ],
            "image/png": "[encoded data removed]"
          },
          "metadata": {}
        }
      ]
    }
  ]
}